{
 "cells": [
  {
   "cell_type": "code",
   "execution_count": 37,
   "metadata": {},
   "outputs": [],
   "source": [
    "import xlrd\n",
    "import xlwt\n",
    "import os\n",
    "import datetime\n",
    "write=xlwt.Workbook()\n",
    "write_dataSheet = write.add_sheet(\"mono\")\n",
    "read=xlrd.open_workbook(\"thesis-data.xls\")\n",
    "readSheet=read.sheet_by_name(\"nine\")\n",
    "\n",
    "rb=xlrd.open_workbook(\"database.xls\")\n",
    "database=rb.sheet_by_index(0)\n",
    "\n",
    "#ns.write(i,0,dt)\n",
    "#nb.save(\"_STIsingapore.xls\")\n",
    "jj=readSheet.cell(0,2).value\n",
    "#print(jj)\n",
    "word_in_list = jj.split()\n",
    "\n",
    "#for i in range(ws.nrows):\n",
    "#    for j in range(0, wst.nrows):"
   ]
  },
  {
   "cell_type": "code",
   "execution_count": 38,
   "metadata": {},
   "outputs": [],
   "source": [
    "dictionary = {}\n",
    "for i in range(database.nrows):\n",
    "    key =database.cell(i, 0).value\n",
    "    co =int(database.cell(i, 1).value)\n",
    "    dictionary[key]=co\n",
    "os.remove(\"database.xls\")"
   ]
  },
  {
   "cell_type": "code",
   "execution_count": 39,
   "metadata": {},
   "outputs": [],
   "source": [
    "for co in range(readSheet.nrows):\n",
    "    jj=readSheet.cell(co,2).value\n",
    "    word_in_list = jj.split()\n",
    "    for wrd in (word_in_list):\n",
    "        if wrd in dictionary:\n",
    "            dictionary[wrd]=dictionary[wrd]+1;\n",
    "        else:\n",
    "            dictionary[wrd]=1;\n",
    "\n",
    "        "
   ]
  },
  {
   "cell_type": "code",
   "execution_count": 40,
   "metadata": {},
   "outputs": [],
   "source": [
    "j=0\n",
    "for key, cnt in dictionary.items(): \n",
    "    write_dataSheet.write(j, 0, key)\n",
    "    write_dataSheet.write(j, 1, cnt)\n",
    "    j=j+1\n",
    "write.save(\"database.xls\")"
   ]
  },
  {
   "cell_type": "code",
   "execution_count": null,
   "metadata": {},
   "outputs": [],
   "source": []
  },
  {
   "cell_type": "code",
   "execution_count": null,
   "metadata": {},
   "outputs": [],
   "source": []
  }
 ],
 "metadata": {
  "kernelspec": {
   "display_name": "Python 3",
   "language": "python",
   "name": "python3"
  },
  "language_info": {
   "codemirror_mode": {
    "name": "ipython",
    "version": 3
   },
   "file_extension": ".py",
   "mimetype": "text/x-python",
   "name": "python",
   "nbconvert_exporter": "python",
   "pygments_lexer": "ipython3",
   "version": "3.7.3"
  }
 },
 "nbformat": 4,
 "nbformat_minor": 2
}
