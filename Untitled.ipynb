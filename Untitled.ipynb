{
 "cells": [
  {
   "cell_type": "code",
   "execution_count": 5,
   "metadata": {},
   "outputs": [
    {
     "name": "stdout",
     "output_type": "stream",
     "text": [
      "ও\n",
      "বলেন,\n",
      "তিনি\n",
      "বাংলাদেশ\n",
      "এক\n",
      "করে\n",
      "এই\n",
      "করতে\n",
      "থেকে\n",
      "হবে।\n",
      "জাতীয়\n",
      "এ\n",
      "বলে\n",
      "সব\n",
      "হয়ে\n",
      "হবে\n",
      "করা\n",
      "হয়েছে।\n",
      "পর\n",
      "শুরু\n",
      "সময়\n",
      "জন্য\n",
      "শেষ\n",
      "দেখা\n",
      "সঙ্গে\n",
      "আর\n",
      "এবং\n",
      "না\n",
      "তারা\n",
      "যে\n",
      "মধ্যে\n",
      "ঢাকা\n",
      "তার\n",
      "তাদের\n",
      "নিয়ে\n",
      "একটি\n",
      "জেনারেল\n",
      "সূর্যগ্রহণ\n",
      "মার্কিন\n",
      "ইরান\n",
      "ইরানের\n",
      "চুক্তি\n",
      "পরমাণু\n",
      "বিজয়\n",
      "26035\n",
      "44\n"
     ]
    }
   ],
   "source": [
    "import xlrd\n",
    "import xlwt\n",
    "import os\n",
    "import datetime\n",
    "rb=xlrd.open_workbook(\"database.xls\")\n",
    "database=rb.sheet_by_index(0)\n",
    "s=0\n",
    "big=0\n",
    "for i in range(database.nrows):\n",
    "    tmp=int(database.cell(i, 1).value )\n",
    "    s=s+tmp;\n",
    "    if(tmp>50):\n",
    "        print(database.cell(i, 0).value)\n",
    "        big=big+1\n",
    "print(s)\n",
    "print(big)"
   ]
  },
  {
   "cell_type": "code",
   "execution_count": null,
   "metadata": {},
   "outputs": [],
   "source": []
  },
  {
   "cell_type": "code",
   "execution_count": null,
   "metadata": {},
   "outputs": [],
   "source": []
  }
 ],
 "metadata": {
  "kernelspec": {
   "display_name": "Python 3",
   "language": "python",
   "name": "python3"
  },
  "language_info": {
   "codemirror_mode": {
    "name": "ipython",
    "version": 3
   },
   "file_extension": ".py",
   "mimetype": "text/x-python",
   "name": "python",
   "nbconvert_exporter": "python",
   "pygments_lexer": "ipython3",
   "version": "3.7.3"
  }
 },
 "nbformat": 4,
 "nbformat_minor": 2
}
