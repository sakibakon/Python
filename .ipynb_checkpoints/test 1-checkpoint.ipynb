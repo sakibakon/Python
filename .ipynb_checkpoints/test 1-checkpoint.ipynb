{
 "cells": [
  {
   "cell_type": "code",
   "execution_count": 4,
   "metadata": {},
   "outputs": [],
   "source": [
    "import xlwt\n",
    "import os\n",
    "import datetime\n",
    "rb=xlrd.open_workbook(\"database.xls\")\n",
    "database=rb.sheet_by_index(0)\n",
    "s=0\n",
    "big=0\n",
    "for i in range(database.nrows):\n",
    "    tmp=int(database.cell(i, 1).value )\n",
    "    s=s+tmp;\n",
    "    if(tmp>50):\n",
    "        #print(database.cell(i, 0).value)\n",
    "        big=big+1\n"
   ]
  },
  {
   "cell_type": "code",
   "execution_count": null,
   "metadata": {},
   "outputs": [],
   "source": []
  }
 ],
 "metadata": {
  "kernelspec": {
   "display_name": "Python 3",
   "language": "python",
   "name": "python3"
  },
  "language_info": {
   "codemirror_mode": {
    "name": "ipython",
    "version": 3
   },
   "file_extension": ".py",
   "mimetype": "text/x-python",
   "name": "python",
   "nbconvert_exporter": "python",
   "pygments_lexer": "ipython3",
   "version": "3.7.3"
  },
  "toc": {
   "base_numbering": "2",
   "nav_menu": {},
   "number_sections": true,
   "sideBar": true,
   "skip_h1_title": false,
   "title_cell": "sakib",
   "title_sidebar": "Contents",
   "toc_cell": false,
   "toc_position": {},
   "toc_section_display": true,
   "toc_window_display": true
  }
 },
 "nbformat": 4,
 "nbformat_minor": 2
}
