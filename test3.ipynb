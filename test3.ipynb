{
 "cells": [
  {
   "cell_type": "code",
   "execution_count": 9,
   "metadata": {},
   "outputs": [
    {
     "name": "stdout",
     "output_type": "stream",
     "text": [
      "ঢাকা বিশ্ববিদ্যালয় (ঢাকা):\n"
     ]
    }
   ],
   "source": [
    "import xlrd\n",
    "import xlwt\n",
    "import os\n",
    "import datetime\n",
    "write=xlwt.Workbook()\n",
    "write_dataSheet = write.add_sheet(\"mono\")\n",
    "read=xlrd.open_workbook(\"thesis-data.xls\")\n",
    "readSheet=read.sheet_by_name(\"nine\")\n",
    "\n",
    "rb=xlrd.open_workbook(\"database.xls\")\n",
    "database=rb.sheet_by_index(0)\n",
    "\n",
    "#ns.write(i,0,dt)\n",
    "#nb.save(\"_STIsingapore.xls\")\n",
    "jj=readSheet.cell(0,2).value\n",
    "single_list = jj.split()\n",
    "double_list=[]\n",
    "triple_list=[]\n",
    "for i in range(1, len(single_list) ):\n",
    "    double_list.append(single_list[i-1]+\" \"+single_list[i])\n",
    "for i in range(2, len(single_list) ):\n",
    "    triple_list.append(single_list[i-2]+\" \"+single_list[i-1]+\" \"+single_list[i])\n",
    "print(triple_list[0])\n",
    "\n",
    "#for i in range(ws.nrows):\n",
    "#    for j in range(0, wst.nrows):"
   ]
  },
  {
   "cell_type": "code",
   "execution_count": 10,
   "metadata": {},
   "outputs": [],
   "source": [
    "single_dictionary = {}\n",
    "for i in range(database.nrows):\n",
    "    key =database.cell(i, 0).value\n",
    "    co =int(database.cell(i, 1).value)\n",
    "    single_dictionary[key]=co\n",
    "os.remove(\"database.xls\")"
   ]
  },
  {
   "cell_type": "code",
   "execution_count": 11,
   "metadata": {},
   "outputs": [],
   "source": [
    "for co in range(readSheet.nrows):\n",
    "    jj=readSheet.cell(co,2).value\n",
    "    word_in_list = jj.split()\n",
    "    for wrd in (word_in_list):\n",
    "        if wrd in single_dictionary:\n",
    "            single_dictionary[wrd]=single_dictionary[wrd]+1;\n",
    "        else:\n",
    "            single_dictionary[wrd]=1;\n",
    "\n",
    "        "
   ]
  },
  {
   "cell_type": "code",
   "execution_count": 13,
   "metadata": {},
   "outputs": [],
   "source": [
    "j=0\n",
    "for key, cnt in single_dictionary.items(): \n",
    "    write_dataSheet.write(j, 0, key)\n",
    "    write_dataSheet.write(j, 1, cnt)\n",
    "    j=j+1\n",
    "write.save(\"database.xls\")"
   ]
  },
  {
   "cell_type": "code",
   "execution_count": null,
   "metadata": {},
   "outputs": [],
   "source": []
  },
  {
   "cell_type": "code",
   "execution_count": null,
   "metadata": {},
   "outputs": [],
   "source": []
  }
 ],
 "metadata": {
  "kernelspec": {
   "display_name": "Python 3",
   "language": "python",
   "name": "python3"
  },
  "language_info": {
   "codemirror_mode": {
    "name": "ipython",
    "version": 3
   },
   "file_extension": ".py",
   "mimetype": "text/x-python",
   "name": "python",
   "nbconvert_exporter": "python",
   "pygments_lexer": "ipython3",
   "version": "3.7.3"
  },
  "toc": {
   "base_numbering": 1,
   "nav_menu": {},
   "number_sections": true,
   "sideBar": true,
   "skip_h1_title": false,
   "title_cell": "Table of Contents",
   "title_sidebar": "Contents",
   "toc_cell": false,
   "toc_position": {},
   "toc_section_display": true,
   "toc_window_display": false
  }
 },
 "nbformat": 4,
 "nbformat_minor": 2
}
