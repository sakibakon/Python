{
 "cells": [
  {
   "cell_type": "code",
   "execution_count": 6,
   "metadata": {},
   "outputs": [
    {
     "name": "stdout",
     "output_type": "stream",
     "text": [
      "ব\n"
     ]
    }
   ],
   "source": [
    "import xlrd\n",
    "import xlwt\n",
    "import os\n",
    "import datetime\n",
    "write=xlwt.Workbook()\n",
    "write_dataSheet = write.add_sheet(\"mono\")\n",
    "read=xlrd.open_workbook(\"thesis-data.xls\")\n",
    "readSheet=read.sheet_by_name(\"nine\")\n",
    "\n",
    "rb=xlrd.open_workbook(\"database.xls\")\n",
    "database=rb.sheet_by_index(0)\n",
    "jj=readSheet.cell(0,2).value\n",
    "wordinlist = jj.split()\n",
    "vd= wordinlist[0]+\" \"+wordinlist[1]\n",
    "print(vd[5])\n"
   ]
  },
  {
   "cell_type": "code",
   "execution_count": null,
   "metadata": {},
   "outputs": [],
   "source": []
  }
 ],
 "metadata": {
  "kernelspec": {
   "display_name": "Python 3",
   "language": "python",
   "name": "python3"
  },
  "language_info": {
   "codemirror_mode": {
    "name": "ipython",
    "version": 3
   },
   "file_extension": ".py",
   "mimetype": "text/x-python",
   "name": "python",
   "nbconvert_exporter": "python",
   "pygments_lexer": "ipython3",
   "version": "3.7.3"
  }
 },
 "nbformat": 4,
 "nbformat_minor": 2
}
